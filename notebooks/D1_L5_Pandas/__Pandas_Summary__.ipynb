{
 "cells": [
  {
   "cell_type": "markdown",
   "metadata": {
    "colab_type": "text",
    "id": "bOChJSNXtC9g"
   },
   "source": [
    "# Pandas"
   ]
  },
  {
   "cell_type": "markdown",
   "metadata": {
    "colab_type": "text",
    "id": "OLIxEDq6VhvZ"
   },
   "source": [
    "In this notebook, we'll learn the basics of data analysis with the Python Pandas library.\n",
    "\n",
    "<img src=\"figures/pandas.png\" width=500>\n",
    "\n",
    "\n"
   ]
  },
  {
   "cell_type": "markdown",
   "metadata": {
    "colab_type": "text",
    "id": "TL4rwLUSW9hV"
   },
   "source": [
    "# Loading the data"
   ]
  },
  {
   "cell_type": "markdown",
   "metadata": {
    "colab_type": "text",
    "id": "4EOXMnGHiLxM"
   },
   "source": [
    "We're first going to get some data to play with. We're going to load the titanic dataset.\n",
    "\n",
    "Now that we have some data to play with, let's load it into a Pandas dataframe. Pandas is a great Python library for data analysis."
   ]
  },
  {
   "cell_type": "code",
   "execution_count": null,
   "metadata": {
    "colab": {},
    "colab_type": "code",
    "id": "-Zd-zoyjaaw2"
   },
   "outputs": [],
   "source": [
    "# import the libraries\n",
    "import matplotlib\n",
    "import urllib\n",
    "import pandas as pd\n",
    "\n",
    "import warnings\n",
    "warnings.filterwarnings('ignore')"
   ]
  },
  {
   "cell_type": "code",
   "execution_count": null,
   "metadata": {
    "colab": {},
    "colab_type": "code",
    "id": "ywaEF_0aQ023"
   },
   "outputs": [],
   "source": [
    "# Read from CSV to Pandas DataFrame\n",
    "df = pd.read_csv(\"data/titanic.csv\", header=0)"
   ]
  },
  {
   "cell_type": "code",
   "execution_count": null,
   "metadata": {
    "colab": {
     "base_uri": "https://localhost:8080/",
     "height": 204
    },
    "colab_type": "code",
    "id": "J79FUzZWQ-kx",
    "outputId": "bcef6952-191c-47ee-ae84-c7a41ac85b24"
   },
   "outputs": [],
   "source": [
    "# First five items\n",
    "df.head()"
   ]
  },
  {
   "cell_type": "markdown",
   "metadata": {
    "colab_type": "text",
    "id": "qhYyM3iGRZ8W"
   },
   "source": [
    "These are the diferent features: \n",
    "* pclass: class of travel\n",
    "* name: full name of the passenger\n",
    "* sex: gender\n",
    "* age: numerical age\n",
    "* sibsp: # of siblings/spouse aboard\n",
    "* parch: number of parents/child aboard\n",
    "* ticket: ticket number\n",
    "* fare: cost of the ticket\n",
    "* cabin: location of room\n",
    "* emarked: port that the passenger embarked at (C - Cherbourg, S - Southampton, Q = Queenstown)\n",
    "* survived: survial metric (0 - died, 1 - survived)"
   ]
  },
  {
   "cell_type": "markdown",
   "metadata": {
    "colab_type": "text",
    "id": "NBx5VP8K_y6N"
   },
   "source": [
    "# Exploratory analysis"
   ]
  },
  {
   "cell_type": "markdown",
   "metadata": {
    "colab_type": "text",
    "id": "DD14WJ1G_zum"
   },
   "source": [
    "We're going to use the Pandas library and see how we can explore and process our data."
   ]
  },
  {
   "cell_type": "code",
   "execution_count": null,
   "metadata": {
    "colab": {
     "base_uri": "https://localhost:8080/",
     "height": 297
    },
    "colab_type": "code",
    "id": "thR28yTmASRr",
    "outputId": "e986bbd4-41ac-4b4d-e79f-06bae8209c36"
   },
   "outputs": [],
   "source": [
    "# Describe features\n",
    "df.describe()"
   ]
  },
  {
   "cell_type": "code",
   "execution_count": null,
   "metadata": {
    "colab": {
     "base_uri": "https://localhost:8080/",
     "height": 364
    },
    "colab_type": "code",
    "id": "Mn5HqS3XmzJs",
    "outputId": "1fffd3e3-45f4-44a3-f3ea-1a0219e0457b"
   },
   "outputs": [],
   "source": [
    "# Histograms\n",
    "df[\"age\"].hist()"
   ]
  },
  {
   "cell_type": "code",
   "execution_count": null,
   "metadata": {
    "colab": {
     "base_uri": "https://localhost:8080/",
     "height": 34
    },
    "colab_type": "code",
    "id": "7illbHR1nLEF",
    "outputId": "f0e07bde-de74-4ce1-bd89-beb48558e636"
   },
   "outputs": [],
   "source": [
    "# Unique values\n",
    "df[\"embarked\"].unique()"
   ]
  },
  {
   "cell_type": "code",
   "execution_count": null,
   "metadata": {
    "colab": {
     "base_uri": "https://localhost:8080/",
     "height": 119
    },
    "colab_type": "code",
    "id": "BG1IMeV_hrqV",
    "outputId": "029ed3dc-b21f-4b01-da8c-09c8d747ce04"
   },
   "outputs": [],
   "source": [
    "# Selecting data by feature\n",
    "df[\"name\"].head()"
   ]
  },
  {
   "cell_type": "code",
   "execution_count": null,
   "metadata": {
    "colab": {
     "base_uri": "https://localhost:8080/",
     "height": 204
    },
    "colab_type": "code",
    "id": "wPrRGLDtiZSp",
    "outputId": "cd41130c-2fe6-4f35-ba12-95498816d971"
   },
   "outputs": [],
   "source": [
    "# Filtering\n",
    "df[df[\"sex\"]==\"female\"].head() # only the female data appear"
   ]
  },
  {
   "cell_type": "code",
   "execution_count": null,
   "metadata": {
    "colab": {
     "base_uri": "https://localhost:8080/",
     "height": 204
    },
    "colab_type": "code",
    "id": "FOuLeYIojMMH",
    "outputId": "cb3353d1-51bf-4995-9a22-c0b5a9695925"
   },
   "outputs": [],
   "source": [
    "# Sorting\n",
    "df.sort_values(\"age\", ascending=False).head()"
   ]
  },
  {
   "cell_type": "code",
   "execution_count": null,
   "metadata": {
    "colab": {
     "base_uri": "https://localhost:8080/",
     "height": 142
    },
    "colab_type": "code",
    "id": "v0TCbtSMjMO5",
    "outputId": "d3139123-aa86-43c0-da33-d5c51d0a2596"
   },
   "outputs": [],
   "source": [
    "# Grouping\n",
    "survived_group = df.groupby(\"survived\")\n",
    "survived_group.mean()"
   ]
  },
  {
   "cell_type": "code",
   "execution_count": null,
   "metadata": {
    "colab": {
     "base_uri": "https://localhost:8080/",
     "height": 221
    },
    "colab_type": "code",
    "id": "34LmckWDhdSA",
    "outputId": "17e1a9e3-555b-4641-a0ec-486b924a3e46"
   },
   "outputs": [],
   "source": [
    "# Selecting row\n",
    "df.iloc[0, :] # iloc gets rows (or columns) at particular positions in the index (so it only takes integers)"
   ]
  },
  {
   "cell_type": "code",
   "execution_count": null,
   "metadata": {
    "colab": {
     "base_uri": "https://localhost:8080/",
     "height": 34
    },
    "colab_type": "code",
    "id": "QrdXeuRdFkXB",
    "outputId": "26a2833b-6932-4ec1-be16-b3bec609605d"
   },
   "outputs": [],
   "source": [
    "# Selecting specific value\n",
    "df.iloc[0, 1]\n"
   ]
  },
  {
   "cell_type": "code",
   "execution_count": null,
   "metadata": {
    "colab": {
     "base_uri": "https://localhost:8080/",
     "height": 221
    },
    "colab_type": "code",
    "id": "Rz35_-x2FkaL",
    "outputId": "828a60ae-bf92-48e1-a504-ff2471a45948"
   },
   "outputs": [],
   "source": [
    "# Selecting by index\n",
    "df.loc[0] # loc gets rows (or columns) with particular labels from the index"
   ]
  },
  {
   "cell_type": "markdown",
   "metadata": {
    "colab_type": "text",
    "id": "uSezrq4vEFYh"
   },
   "source": [
    "# Preprocessing"
   ]
  },
  {
   "cell_type": "code",
   "execution_count": null,
   "metadata": {
    "colab": {
     "base_uri": "https://localhost:8080/",
     "height": 204
    },
    "colab_type": "code",
    "id": "EZ1pCKHIjMUY",
    "outputId": "bb1233b0-5930-4337-8a15-22337dda9f6f"
   },
   "outputs": [],
   "source": [
    "# Rows with at least one NaN value\n",
    "df[pd.isnull(df).any(axis=1)].head()"
   ]
  },
  {
   "cell_type": "code",
   "execution_count": null,
   "metadata": {
    "colab": {
     "base_uri": "https://localhost:8080/",
     "height": 204
    },
    "colab_type": "code",
    "id": "zUaiFplEkmoB",
    "outputId": "3caed8fa-5c95-4d44-a0f8-b4554ad3e009"
   },
   "outputs": [],
   "source": [
    "# Drop rows with Nan values\n",
    "df = df.dropna() # removes rows with any NaN values\n",
    "df = df.reset_index() # reset's row indexes in case any rows were dropped\n",
    "df.head()"
   ]
  },
  {
   "cell_type": "code",
   "execution_count": null,
   "metadata": {
    "colab": {
     "base_uri": "https://localhost:8080/",
     "height": 204
    },
    "colab_type": "code",
    "id": "ubujZv_8qG-d",
    "outputId": "087deb79-c891-4cb9-cc9a-dbd1df82edbe"
   },
   "outputs": [],
   "source": [
    "# Dropping multiple columns\n",
    "df = df.drop([\"name\", \"cabin\", \"ticket\"], axis=1) # we won't use text features for our initial basic models\n",
    "df.head()"
   ]
  },
  {
   "cell_type": "code",
   "execution_count": null,
   "metadata": {
    "colab": {
     "base_uri": "https://localhost:8080/",
     "height": 204
    },
    "colab_type": "code",
    "id": "8m117GcVnon9",
    "outputId": "103c4eec-b38c-4921-af84-af6f955aba90"
   },
   "outputs": [],
   "source": [
    "# Map feature values\n",
    "df['sex'] = df['sex'].map( {'female': 0, 'male': 1} ).astype(int)\n",
    "df[\"embarked\"] = df['embarked'].dropna().map( {'S':0, 'C':1, 'Q':2} ).astype(int)\n",
    "df.head()"
   ]
  },
  {
   "cell_type": "markdown",
   "metadata": {
    "colab_type": "text",
    "id": "ZaVqjpsCEtft"
   },
   "source": [
    "# Feature engineering"
   ]
  },
  {
   "cell_type": "code",
   "execution_count": null,
   "metadata": {
    "colab": {
     "base_uri": "https://localhost:8080/",
     "height": 204
    },
    "colab_type": "code",
    "id": "_FPtk5tpqrDI",
    "outputId": "faf26f41-50f4-4cdf-fd52-46fadee89090"
   },
   "outputs": [],
   "source": [
    "# Lambda expressions to create new features\n",
    "def get_family_size(sibsp, parch):\n",
    "    family_size = sibsp + parch\n",
    "    return family_size\n",
    "\n",
    "df[\"family_size\"] = df[[\"sibsp\", \"parch\"]].apply(lambda x: get_family_size(x[\"sibsp\"], x[\"parch\"]), axis=1)\n",
    "df.head()"
   ]
  },
  {
   "cell_type": "code",
   "execution_count": null,
   "metadata": {
    "colab": {
     "base_uri": "https://localhost:8080/",
     "height": 204
    },
    "colab_type": "code",
    "id": "JK3FqfjnpSNi",
    "outputId": "7cc0f028-b924-4b17-c872-408f3fbcf368"
   },
   "outputs": [],
   "source": [
    "# Reorganize headers\n",
    "df = df[['pclass', 'sex', 'age', 'sibsp', 'parch', 'family_size', 'fare', 'embarked', 'survived']]\n",
    "df.head()"
   ]
  },
  {
   "cell_type": "markdown",
   "metadata": {
    "colab_type": "text",
    "id": "N_rwgfrFGTne"
   },
   "source": [
    "# Saving data"
   ]
  },
  {
   "cell_type": "code",
   "execution_count": null,
   "metadata": {
    "colab": {},
    "colab_type": "code",
    "id": "rNNxA7Vrp2fC"
   },
   "outputs": [],
   "source": [
    "# Saving dataframe to CSV\n",
    "df.to_csv(\"data/processed_titanic.csv\", index=False)"
   ]
  }
 ],
 "metadata": {
  "colab": {
   "collapsed_sections": [],
   "name": "03_Pandas",
   "provenance": [],
   "toc_visible": true,
   "version": "0.3.2"
  },
  "kernelspec": {
   "display_name": "Python 3",
   "language": "python",
   "name": "python3"
  },
  "language_info": {
   "codemirror_mode": {
    "name": "ipython",
    "version": 3
   },
   "file_extension": ".py",
   "mimetype": "text/x-python",
   "name": "python",
   "nbconvert_exporter": "python",
   "pygments_lexer": "ipython3",
   "version": "3.7.3"
  }
 },
 "nbformat": 4,
 "nbformat_minor": 1
}

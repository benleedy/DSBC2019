{
 "cells": [
  {
   "cell_type": "markdown",
   "metadata": {},
   "source": [
    "\n",
    "\n",
    "\n",
    "# Welcome to Data Science Boot Camp 2019!\n",
    "\n",
    "\n",
    "<img src=\"data-science-bootcamp.jpg\" width=\"400\"/>\n",
    "\n",
    "\n",
    "## Summary\n",
    "This 2-week boot camp is for aspiring data scientists. We will take each student from an introduction to Jupyter Notebooks and Python, to the state-of-the-art in Deep Learning.  Each section is organized with 30% lecture + 70% hands-on training.  Each student will develop a uniquely tailored Capstone Project and present it at the end of the course.\n",
    "\n",
    "## Time & Location\n",
    "- September 23rd – October 4th, 2019\n",
    "- 9:00am – 5:00pm, 30 min lunch @ 12:00pm, 15 min breaks @ 10:30am & 2:00pm.\n",
    "- National Security Collaboration Center, North Paseo Building, Suite 4.212 (4th floor), University of Texas San Antonio.\n",
    "\n",
    "## Format\n",
    "- 80 hours: 30% lecture + 70% Labs, Exercises and Demos\n",
    "- 20 hours: Capstone Project (homework)\n",
    "- 50 modules, with a quiz at the end of each module.\n",
    "- Cumulative final exam based on quizzes.  Passing score is 70% for JQS (beginner-level).\n",
    "\n",
    "## Prerequisites\n",
    "- Interest in data science, data engineering, and programming.\n",
    "- No experience necessary in data science.  I will teach you what you need to know.\n",
    "- Familiarity with Python and Microsoft Excel.\n",
    "\n",
    "## Requirements\n",
    "- 100% attendance required to pass the course.  No exceptions.\n",
    "- Be 30 min early each day for security processing and check-in.\n",
    "- Personal laptop to run Jupyter Notebooks on Google Collab."
   ]
  },
  {
   "cell_type": "markdown",
   "metadata": {},
   "source": [
    "# Pre-boot camp Preparation\n",
    "\n",
    "## Student unique identifier\n",
    "Run the code below and report the numeric result on the first day of class.  Each student will have a unique value."
   ]
  },
  {
   "cell_type": "code",
   "execution_count": null,
   "metadata": {},
   "outputs": [],
   "source": [
    "import string\n",
    "pemdas =  2 *(1 + 2**2) / 10 + 1 - 2\n",
    "text = input('Input your last name: ')\n",
    "text = text.lower()\n",
    "output = []\n",
    "for character in text:\n",
    "    number = ord(character) - 96\n",
    "    output.append(number)\n",
    "result = sum(output) + pemdas\n",
    "print ('Result is:  ')\n",
    "print (result)"
   ]
  },
  {
   "cell_type": "markdown",
   "metadata": {},
   "source": [
    "## Libraries for bootcamp notebooks\n",
    "Run the following code to setup the libraries you will need for the Jupyter Notebooks."
   ]
  },
  {
   "cell_type": "code",
   "execution_count": null,
   "metadata": {},
   "outputs": [],
   "source": [
    "!pip install -r requirements.txt"
   ]
  }
 ],
 "metadata": {
  "kernelspec": {
   "display_name": "Python 3",
   "language": "python",
   "name": "python3"
  },
  "language_info": {
   "codemirror_mode": {
    "name": "ipython",
    "version": 3
   },
   "file_extension": ".py",
   "mimetype": "text/x-python",
   "name": "python",
   "nbconvert_exporter": "python",
   "pygments_lexer": "ipython3",
   "version": "3.7.3"
  }
 },
 "nbformat": 4,
 "nbformat_minor": 2
}
